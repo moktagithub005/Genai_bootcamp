{
 "cells": [
  {
   "cell_type": "markdown",
   "id": "6596044e",
   "metadata": {},
   "source": [
    "st.title(\"🤖 My Chatbot\")  # robot icon\n",
    "\n",
    "\n",
    "st.sidebar.button(\"⚙️ Settings\") # gear icon\n",
    "\n",
    "\n",
    "st.write(\"💬 Conversation history\")\n"
   ]
  },
  {
   "cell_type": "markdown",
   "id": "6ce2f8b5",
   "metadata": {},
   "source": [
    "| Purpose         | Emoji | Lucide Icon Name |\n",
    "| --------------- | ----- | ---------------- |\n",
    "| Bot             | 🤖    | `bot`            |\n",
    "| User            | 🧑    | `user`           |\n",
    "| Settings        | ⚙️    | `settings`       |\n",
    "| Chat/Message    | 💬    | `message-circle` |\n",
    "| History         | 📜    | `history`        |\n",
    "| Clear/Delete    | 🗑️   | `trash`          |\n",
    "| Save            | 💾    | `save`           |\n",
    "| Search          | 🔍    | `search`         |\n",
    "| Light/Dark Mode | 🌙☀️  | `sun` / `moon`   |\n",
    "| Info/Help       | ℹ️    | `info`           |\n"
   ]
  },
  {
   "cell_type": "code",
   "execution_count": null,
   "id": "a98bb625",
   "metadata": {},
   "outputs": [],
   "source": []
  },
  {
   "cell_type": "code",
   "execution_count": null,
   "id": "24cd526b",
   "metadata": {},
   "outputs": [],
   "source": []
  },
  {
   "cell_type": "code",
   "execution_count": null,
   "id": "3bc62be3",
   "metadata": {},
   "outputs": [],
   "source": []
  }
 ],
 "metadata": {
  "kernelspec": {
   "display_name": "unisole",
   "language": "python",
   "name": "python3"
  },
  "language_info": {
   "name": "python",
   "version": "3.11.13"
  }
 },
 "nbformat": 4,
 "nbformat_minor": 5
}
