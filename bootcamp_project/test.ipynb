{
 "cells": [
  {
   "cell_type": "code",
   "execution_count": 1,
   "id": "141e5a2d",
   "metadata": {},
   "outputs": [
    {
     "ename": "ImportError",
     "evalue": "cannot import name 'add_routes' from 'langserve' (/Users/ajaymokta2002/Desktop/genai_bootcamp/bootcamp_project/langserve.py)",
     "output_type": "error",
     "traceback": [
      "\u001b[31m---------------------------------------------------------------------------\u001b[39m",
      "\u001b[31mImportError\u001b[39m                               Traceback (most recent call last)",
      "\u001b[36mCell\u001b[39m\u001b[36m \u001b[39m\u001b[32mIn[1]\u001b[39m\u001b[32m, line 7\u001b[39m\n\u001b[32m      5\u001b[39m \u001b[38;5;28;01mfrom\u001b[39;00m\u001b[38;5;250m \u001b[39m\u001b[34;01mlangchain_core\u001b[39;00m\u001b[34;01m.\u001b[39;00m\u001b[34;01moutput_parsers\u001b[39;00m\u001b[38;5;250m \u001b[39m\u001b[38;5;28;01mimport\u001b[39;00m StrOutputParser\n\u001b[32m      6\u001b[39m \u001b[38;5;28;01mfrom\u001b[39;00m\u001b[38;5;250m \u001b[39m\u001b[34;01mfastapi\u001b[39;00m\u001b[38;5;250m \u001b[39m\u001b[38;5;28;01mimport\u001b[39;00m FastAPI\n\u001b[32m----> \u001b[39m\u001b[32m7\u001b[39m \u001b[38;5;28;01mfrom\u001b[39;00m\u001b[38;5;250m \u001b[39m\u001b[34;01mlangserve\u001b[39;00m\u001b[38;5;250m \u001b[39m\u001b[38;5;28;01mimport\u001b[39;00m add_routes\n\u001b[32m      8\u001b[39m \u001b[38;5;28;01mimport\u001b[39;00m\u001b[38;5;250m \u001b[39m\u001b[34;01muvicorn\u001b[39;00m\n\u001b[32m     10\u001b[39m load_dotenv()\n",
      "\u001b[31mImportError\u001b[39m: cannot import name 'add_routes' from 'langserve' (/Users/ajaymokta2002/Desktop/genai_bootcamp/bootcamp_project/langserve.py)"
     ]
    }
   ],
   "source": [
    "import os\n",
    "from dotenv import load_dotenv\n",
    "from langchain_groq import ChatGroq\n",
    "from langchain_core.prompts import ChatPromptTemplate\n",
    "from langchain_core.output_parsers import StrOutputParser\n",
    "from fastapi import FastAPI\n",
    "from langserve import add_routes\n",
    "import uvicorn\n",
    "\n",
    "load_dotenv()\n",
    "## langsmith tracking \n",
    "os.environ[\"LANGCHAIN_TRACING_V2\"]=\"true\"\n",
    "os.environ[\"GROQ_API_KEY\"]=os.getev(\"GROQ_API_KEY\")\n",
    "os.environ[\"LANGCHIAN_PROJECT\"]=\"U_Tools\"\n",
    "\n",
    "\n",
    "## LLM setup using groq \n",
    "llm=ChatGroq(\n",
    "    model=\"\",\n",
    "    temperature=0.2,\n",
    "    api_key=os.getev(\"GROQ_API_KEY\")\n",
    ")\n",
    "\n",
    "##prompt \n",
    "prompt=ChatPromptTemplate.from_messages([\n",
    "    (\"sysetm\",\"you are a professional translator. translate the following text to{language}\"),\n",
    "    (\"user\",\"{text}\")\n",
    "])\n",
    "\n",
    "## output parser \n",
    "parser=StrOutputParser()\n",
    "\n",
    "## LCEL(langchain expression language)\n",
    "\n",
    "chain=prompt|llm|parser\n",
    "\n",
    "## test function \n",
    "def test_translation():\n",
    "    result=chain.invoke(\n",
    "        {\"language\":\"hindi\",\"text\":\"how are you today\"}\n",
    "    )\n",
    "    print(f\"result Translation:{result}\")\n"
   ]
  },
  {
   "cell_type": "code",
   "execution_count": null,
   "id": "d50cbb69",
   "metadata": {},
   "outputs": [],
   "source": []
  },
  {
   "cell_type": "code",
   "execution_count": null,
   "id": "dd0e298e",
   "metadata": {},
   "outputs": [],
   "source": []
  }
 ],
 "metadata": {
  "kernelspec": {
   "display_name": "unisole",
   "language": "python",
   "name": "python3"
  },
  "language_info": {
   "codemirror_mode": {
    "name": "ipython",
    "version": 3
   },
   "file_extension": ".py",
   "mimetype": "text/x-python",
   "name": "python",
   "nbconvert_exporter": "python",
   "pygments_lexer": "ipython3",
   "version": "3.11.13"
  }
 },
 "nbformat": 4,
 "nbformat_minor": 5
}
