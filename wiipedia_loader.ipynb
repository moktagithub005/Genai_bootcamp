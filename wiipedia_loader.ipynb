{
 "cells": [
  {
   "cell_type": "code",
   "execution_count": 2,
   "id": "f8c35303",
   "metadata": {},
   "outputs": [],
   "source": [
    "#pip install wikipedialoader\n",
    "from langchain_community.document_loaders import WikipediaLoader"
   ]
  },
  {
   "cell_type": "code",
   "execution_count": 6,
   "id": "2763e586",
   "metadata": {},
   "outputs": [
    {
     "name": "stdout",
     "output_type": "stream",
     "text": [
      "[Document(metadata={'title': 'Deputy Prime Minister of India', 'summary': \"The deputy prime minister of India (IAST: Bhārat Ke Upapradhānamantrī), although not a Constitutional post, is the second-highest ranking minister of the Union in the executive branch of the Government of India and is a senior member of the Union Council of Ministers. The office holder also deputises for the prime minister in their absence.\\nThe office has since been only intermittently occupied, having been occupied for a little more than 10 years out of the 75 years since its inception. Since 1950 India has had 8 deputy prime ministers, of which none having at least one full term. The first was Vallabhbhai Patel of the Indian National Congress party, who was sworn in on 15 August 1947, when India gained independence from the British Raj. Serving until his death in December 1950, Patel remains India's longest-serving deputy prime minister. The post was vacant until Morarji Desai became the second deputy prime minister in 1967 and has the second-longest tenure. Morarji Desai and Charan Singh were the deputy prime ministers who later became Prime Minister of India. Jagjivan Ram and Yashwantrao Chavan became deputy prime ministers consecutively without the break in different ministries. Devi Lal is the only deputy prime minister to represent both parties in the same post. Lal Krishna Advani was the seventh and last person to serve as the deputy prime minister of India until the post became vacant.\\nThe current government does not have a deputy prime minister and the post has been vacant since 23 May 2004.\", 'source': 'https://en.wikipedia.org/wiki/Deputy_Prime_Minister_of_India'}, page_content=\"The deputy prime minister of India (IAST: Bhārat Ke Upapradhānamantrī), although not a Constitutional post, is the second-highest ranking minister of the Union in the executive branch of the Government of India and is a senior member of the Union Council of Ministers. The office holder also deputises for the prime minister in their absence.\\nThe office has since been only intermittently occupied, having been occupied for a little more than 10 years out of the 75 years since its inception. Since 1950 India has had 8 deputy prime ministers, of which none having at least one full term. The first was Vallabhbhai Patel of the Indian National Congress party, who was sworn in on 15 August 1947, when India gained independence from the British Raj. Serving until his death in December 1950, Patel remains India's longest-serving deputy prime minister. The post was vacant until Morarji Desai became the second deputy prime minister in 1967 and has the second-longest tenure. Morarji Desai and Charan Singh were the deputy prime ministers who later became Prime Minister of India. Jagjivan Ram and Yashwantrao Chavan became deputy prime ministers consecutively without the break in different ministries. Devi Lal is the only deputy prime minister to represent both parties in the same post. Lal Krishna Advani was the seventh and last person to serve as the deputy prime minister of India until the post became vacant.\\nThe current government does not have a deputy prime minister and the post has been vacant since 23 May 2004.\\n\\n\\n== List ==\\nKey\\nRES  Resigned\\n†  Died in office\\n\\n\\n== Statistics ==\\nList of deputy prime ministers by length of term\\n\\nTimeline\\n\\nList by party\\n\\nParties by total duration (in days) of holding Deputy Prime Minister's Office\\n\\n\\n== See also ==\\nPresident of India\\nList of presidents of India\\nVice President of India\\nList of vice presidents of India\\nPrime Minister of India\\nList of prime ministers of India\\n\\n\\n== Notes ==\\n\\n\\n== References ==\"), Document(metadata={'title': 'List of prime ministers of India', 'summary': \"The prime minister of India is the chief executive of the Government of India and chair of the Union Council of Ministers. Although the president of India is the constitutional, nominal, and ceremonial head of state, in practice and ordinarily, the executive authority is vested in the prime minister and their chosen Council of Ministers. The prime minister is the leader elected by the party with a majority in the lower house of the Indian parliament, the Lok Sabha, which is the main legislative body in the Republic of India. The prime minister and their cabinet are at all times responsible to the Lok Sabha. The prime minister can be a member of the Lok Sabha or of the Rajya Sabha, the upper house of the parliament. The prime minister ranks third in the order of precedence.\\n\\nThe prime minister is appointed by the president of India; however, the prime minister has to enjoy the confidence of the majority of Lok Sabha members, who are directly elected every five years, unless a prime minister resigns. The prime minister is the presiding member of the Council of Ministers of the Union government. The prime minister unilaterally controls the selection and dismissal of members of the council; and allocation of posts to members within the government. This council, which is collectively responsible to the Lok Sabha as per Article 75(3), assists the president regarding the operations under the latter's powers; however, by the virtue of Article 74 of the Constitution, such 'aid and advice' tendered by the council is binding.\\nSince 1947, India has had 14 prime ministers. Jawaharlal Nehru was India's first prime minister, serving as prime minister of the Dominion of India from 15 August 1947 until 26 January 1950, and thereafter of the Republic of India until his death in May 1964. (India conducted its first post-independence general elections in 1952). Earlier, Nehru had served as prime minister of the Interim Government of India during the British Raj from 2 September 1946 until 14 August 1947, his party, the Indian National Congress having won the 1946 Indian provincial elections. Nehru was succeeded by Lal Bahadur Shastri, whose 1 year 7-month term ended in his death in Tashkent, then in the USSR, where he had signed the Tashkent Declaration between India and Pakistan. Indira Gandhi, Nehru's daughter, succeeded Shastri in 1966 to become the country's first female prime minister. Eleven years later, her party, the Indian National Congress, lost the 1977 Indian general election to the Janata Party, whose leader Morarji Desai became the first non-Congress prime minister. After Desai resigned in 1979, his former associate Charan Singh briefly held office until the Congress won the 1980 Indian general election and Indira Gandhi returned as prime minister. Her second term as prime minister ended five years later on 31 October 1984, when she was assassinated by her bodyguards. Her son Rajiv Gandhi was sworn in as India's youngest premier. Members of Nehru–Gandhi family have been prime minister for approximately 38 years.\\nAfter a general election loss, Rajiv Gandhi's five-year term ended; his former cabinet colleague, V. P. Singh of the Janata Dal, formed the year-long National Front coalition government in 1989. A seven-month interlude under prime minister Chandra Shekhar followed, after which the Congress party returned to power, forming the government under P. V. Narasimha Rao in June 1991, Rajiv Gandhi having been assassinated earlier that year. Rao's five-year term was succeeded by four short-lived governments—Atal Bihari Vajpayee from the Bharatiya Janata Party (BJP) for 13 days in 1996, a year each under United Front prime ministers H. D. Deve Gowda and Inder Kumar Gujral, and Vajpayee again for 13 months in 1998–1999. In 1999, Vajpayee's National Democratic Alliance (NDA) won the general election, the first non-Congress alliance to do so, and he served a full five-year term as prime minister. The Congress and its United Progressive Alliance (UPA) won the general elections in 2004 and 2009, Manmohan Singh serving as prime minister between 2004 and 2014. The BJP won the 2014 Indian general election, and its parliamentary leader Narendra Modi formed the first non-Congress single-party majority government. The BJP went on to win the 2019 Indian general election with a bigger margin, granting a second term for the incumbent Modi government. After the 2024 Indian general election, Modi became the prime minister for the third consecutive time, leading a coalition government after the BJP lost its majority, only the second to do so after the first prime minister Jawaharlal Nehru.\", 'source': 'https://en.wikipedia.org/wiki/List_of_prime_ministers_of_India'}, page_content=\"The prime minister of India is the chief executive of the Government of India and chair of the Union Council of Ministers. Although the president of India is the constitutional, nominal, and ceremonial head of state, in practice and ordinarily, the executive authority is vested in the prime minister and their chosen Council of Ministers. The prime minister is the leader elected by the party with a majority in the lower house of the Indian parliament, the Lok Sabha, which is the main legislative body in the Republic of India. The prime minister and their cabinet are at all times responsible to the Lok Sabha. The prime minister can be a member of the Lok Sabha or of the Rajya Sabha, the upper house of the parliament. The prime minister ranks third in the order of precedence.\\n\\nThe prime minister is appointed by the president of India; however, the prime minister has to enjoy the confidence of the majority of Lok Sabha members, who are directly elected every five years, unless a prime minister resigns. The prime minister is the presiding member of the Council of Ministers of the Union government. The prime minister unilaterally controls the selection and dismissal of members of the council; and allocation of posts to members within the government. This council, which is collectively responsible to the Lok Sabha as per Article 75(3), assists the president regarding the operations under the latter's powers; however, by the virtue of Article 74 of the Constitution, such 'aid and advice' tendered by the council is binding.\\nSince 1947, India has had 14 prime ministers. Jawaharlal Nehru was India's first prime minister, serving as prime minister of the Dominion of India from 15 August 1947 until 26 January 1950, and thereafter of the Republic of India until his death in May 1964. (India conducted its first post-independence general elections in 1952). Earlier, Nehru had served as prime minister of the Interim Government of India during the British Raj from 2 September 1946 until 14 August 1947, his party, the Indian National Congress having won the 1946 Indian provincial elections. Nehru was succeeded by Lal Bahadur Shastri, whose 1 year 7-month term ended in his death in Tashkent, then in the USSR, where he had signed the Tashkent Declaration between India and Pakistan. Indira Gandhi, Nehru's daughter, succeeded Shastri in 1966 to become the country's first female prime minister. Eleven years later, her party, the Indian National Congress, lost the 1977 Indian general election to the Janata Party, whose leader Morarji Desai became the first non-Congress prime minister. After Desai resigned in 1979, his former associate Charan Singh briefly held office until the Congress won the 1980 Indian general election and Indira Gandhi returned as prime minister. Her second term as prime minister ended five years later on 31 October 1984, when she was assassinated by her bodyguards. Her son Rajiv Gandhi was sworn in as India's youngest premier. Members of Nehru–Gandhi family have been prime minister for approximately 38 years.\\nAfter a general election loss, Rajiv Gandhi's five-year term ended; his former cabinet colleague, V. P. Singh of the Janata Dal, formed the year-long National Front coalition government in 1989. A seven-month interlude under prime minister Chandra Shekhar followed, after which the Congress party returned to power, forming the government under P. V. Narasimha Rao in June 1991, Rajiv Gandhi having been assassinated earlier that year. Rao's five-year term was succeeded by four short-lived governments—Atal Bihari Vajpayee from the Bharatiya Janata Party (BJP) for 13 days in 1996, a year each under United Front prime ministers H. D. Deve Gowda and Inder Kumar Gujral, and Vajpayee again for 13 months in 1998–1999. In 1999, Vajpayee's National Democratic Alliance (NDA) won the general election, the first non-Congress alliance to do so, and he served a full five-year term as prime minister. The Congress and its United Progressive Al\")]\n"
     ]
    }
   ],
   "source": [
    "loader=WikipediaLoader(query=\"who is the prime minister of india\",load_max_docs=2)\n",
    "docs=loader.load()\n",
    "print(docs)"
   ]
  },
  {
   "cell_type": "code",
   "execution_count": null,
   "id": "a9a869a2",
   "metadata": {},
   "outputs": [],
   "source": []
  },
  {
   "cell_type": "code",
   "execution_count": null,
   "id": "055799d8",
   "metadata": {},
   "outputs": [],
   "source": []
  }
 ],
 "metadata": {
  "kernelspec": {
   "display_name": "unisole",
   "language": "python",
   "name": "python3"
  },
  "language_info": {
   "codemirror_mode": {
    "name": "ipython",
    "version": 3
   },
   "file_extension": ".py",
   "mimetype": "text/x-python",
   "name": "python",
   "nbconvert_exporter": "python",
   "pygments_lexer": "ipython3",
   "version": "3.11.13"
  }
 },
 "nbformat": 4,
 "nbformat_minor": 5
}
